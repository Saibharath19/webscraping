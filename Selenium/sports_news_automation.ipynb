{
 "cells": [
  {
   "cell_type": "code",
   "execution_count": 1,
   "id": "7c5b8078-9394-4938-9b7f-9c8ad7a3b814",
   "metadata": {},
   "outputs": [],
   "source": [
    "import pandas as pd\n",
    "from selenium import webdriver\n",
    "from selenium.webdriver.chrome.service import Service\n",
    "from selenium.webdriver.chrome.options import Options\n",
    "from selenium.webdriver.common.by import By\n",
    "from datetime import datetime\n",
    "import os\n",
    "import sys\n",
    "\n",
    "application_path=os.path.dirname(sys.executable)\n",
    "now=datetime.now()\n",
    "month_day_year=now.strftime(\"%m%d%y\")\n",
    "website = 'https://www.thesun.co.uk/sport/football/'\n",
    "path = r\"C:\\Users\\saiba\\Downloads\\chromedriver-win64 (1)\\chromedriver-win64\\chromedriver.exe\"\n",
    "#headless mode\n",
    "options=Options()\n",
    "options.add_argument('--headless=new')\n",
    "titles = []\n",
    "sub_titles = []\n",
    "links = []\n",
    "\n",
    "service = Service(executable_path=path)\n",
    "driver = webdriver.Chrome(service=service,options=options)\n",
    "driver.get(website)\n",
    "driver.implicitly_wait(10)\n",
    "\n",
    "containers = driver.find_elements(By.XPATH, '//div[@class=\"teaser__copy-container\"]')\n",
    "\n",
    "for i in containers:\n",
    "    try:\n",
    "        title = i.find_element(By.TAG_NAME, 'h3').text\n",
    "    except:\n",
    "        title = \"None\"\n",
    "    \n",
    "    try:\n",
    "        sub_title = i.find_element(By.TAG_NAME, 'span').text\n",
    "    except:\n",
    "        sub_title = \"None\"\n",
    "    \n",
    "    try:\n",
    "        link = i.find_element(By.XPATH, './a').get_attribute('href')\n",
    "    except:\n",
    "        link = \"None\"\n",
    "    \n",
    "    titles.append(title)\n",
    "    sub_titles.append(sub_title)\n",
    "    links.append(link)\n",
    "\n",
    "df_headlines = pd.DataFrame({\n",
    "    'title': titles,\n",
    "    'subtitle': sub_titles,\n",
    "    'link': links\n",
    "})\n",
    "file_name=f'headlines-{month_day_year}.csv'\n",
    "#final_path=os.path.join(application_path,file_name)\n",
    "df_headlines.to_csv(file_name)\n",
    "driver.quit()\n"
   ]
  },
  {
   "cell_type": "code",
   "execution_count": null,
   "id": "a2f86a10-7cd7-4a73-b491-e76c7dbcbd3d",
   "metadata": {},
   "outputs": [],
   "source": []
  }
 ],
 "metadata": {
  "kernelspec": {
   "display_name": "Python [conda env:base] *",
   "language": "python",
   "name": "conda-base-py"
  },
  "language_info": {
   "codemirror_mode": {
    "name": "ipython",
    "version": 3
   },
   "file_extension": ".py",
   "mimetype": "text/x-python",
   "name": "python",
   "nbconvert_exporter": "python",
   "pygments_lexer": "ipython3",
   "version": "3.12.7"
  }
 },
 "nbformat": 4,
 "nbformat_minor": 5
}
